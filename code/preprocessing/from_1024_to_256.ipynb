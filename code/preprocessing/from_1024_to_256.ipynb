{
 "cells": [
  {
   "cell_type": "code",
   "execution_count": 1,
   "metadata": {},
   "outputs": [],
   "source": [
    "import numpy as np\n",
    "import rasterio\n",
    "import gc\n",
    "from tqdm import tqdm"
   ]
  },
  {
   "cell_type": "code",
   "execution_count": 2,
   "metadata": {},
   "outputs": [],
   "source": [
    "def load_raster(file_path):\n",
    "    with rasterio.open(file_path) as dataset:\n",
    "        raster_data = dataset.read()\n",
    "        crs = dataset.crs.to_wkt()\n",
    "        transform = dataset.transform\n",
    "        bands, cols, rows = raster_data.shape\n",
    "        raster_data = raster_data.reshape((rows,cols,bands))\n",
    "    return raster_data,crs, transform\n",
    "\n",
    "def sliceRaster(image,label, slice_size=256):\n",
    "    rows, cols, bands = image.shape\n",
    "    slices = []\n",
    "    for i in range(0, rows, slice_size):\n",
    "        for j in range(0, cols, slice_size):\n",
    "            slice = image[i:i+slice_size, j:j+slice_size, :]\n",
    "            label_slice = label[i:i+slice_size, j:j+slice_size]\n",
    "            slices.append((slice, label_slice))\n",
    "    gc.collect()\n",
    "    return slices\n",
    "\n",
    "\n",
    "def classifySlices(slice):\n",
    "    if (np.array(slice) == 255).sum() >=1 or  (np.array(slice) == 1).sum() >=1:\n",
    "            return 1\n",
    "    return 0\n",
    "\n",
    "def ChooseZeros(img_0_path, label_0_path, amount=10):\n",
    "    np.random.seed(12)\n",
    "    idx = np.arange(len(img_0_path))\n",
    "    sample = np.random.choice(idx, amount, replace=False)\n",
    "    img_0_paths = np.array(img_0_path)[sample]\n",
    "    label_0_paths = np.array(label_0_path)[sample]\n",
    "\n",
    "    return img_0_paths, label_0_paths\n",
    "\n",
    "\n",
    "def saveSlices(slices, base_name, output_dir_train, output_dir_test,crs_wkt, transform, train=True):\n",
    "    for i, (image,label) in enumerate(slices):\n",
    "        class_label = classifySlices(label)\n",
    "        if train:\n",
    "            image_output = output_dir_train + str(class_label) + '\\\\image\\\\' + f\"{base_name}_slice_{i}.tif\" \n",
    "            label_output = output_dir_train + str(class_label) + '\\\\label\\\\' + f\"{base_name}_slice_{i}.tif\" \n",
    "        else:\n",
    "            image_output = output_dir_test + str(class_label) + '\\\\image\\\\' + f\"{base_name}_slice_{i}.tif\" \n",
    "            label_output = output_dir_test + str(class_label) + '\\\\label\\\\' + f\"{base_name}_slice_{i}.tif\" \n",
    "\n",
    "        WriteRaster(image,crs_wkt,transform,image_output)\n",
    "        WriteRaster(label,crs_wkt,transform,label_output)\n",
    "    \n",
    "def WriteRaster(array,crs_wkt,transform,output_file_path):\n",
    "    rows, cols, bands = array.shape\n",
    "    with rasterio.open(\n",
    "        output_file_path, 'w', driver='GTiff', height=rows, width=cols,\n",
    "        count=bands, dtype=array.dtype, crs=crs_wkt, transform=transform\n",
    "    ) as dst:\n",
    "        for b in range(bands):\n",
    "            dst.write(array[ :, :,b], b + 1)\n",
    "\n",
    "def ReadTextFile(file_path):\n",
    "    with open(file_path, 'r') as file:\n",
    "        data = file.read().splitlines()\n",
    "    return data"
   ]
  },
  {
   "cell_type": "code",
   "execution_count": 3,
   "metadata": {},
   "outputs": [],
   "source": [
    "def main(train=True, zero=False):\n",
    "    image_paths = ReadTextFile(\"N:\\\\Tal\\\\from_1024_to_256\\\\text files\\\\2020\\\\image_1_training.txt\")\n",
    "    label_paths = ReadTextFile(\"N:\\\\Tal\\\\from_1024_to_256\\\\text files\\\\2020\\\\label_1_training.txt\")\n",
    "    if zero:\n",
    "        image_paths, label_paths = ChooseZeros(image_paths, label_paths)\n",
    "    output_dir_train = \"N:\\\\Tal\\\\2020\\\\data256\\\\train\\\\\"\n",
    "    output_dir_test = \"N:\\\\Tal\\\\2020\\\\data256\\\\test\\\\\"\n",
    "    slice_size = 256\n",
    "    for i,img in enumerate(tqdm(image_paths, desc='Processing Raster Files')):\n",
    "        img_data, crs, transform = load_raster(img)\n",
    "        label_data, crs, transform = load_raster(label_paths[i])\n",
    "        slices = sliceRaster(img_data, label_data,slice_size)\n",
    "        base_name = img.split(\"/\")[-1].split(\".\")[0]\n",
    "        saveSlices(slices, base_name, output_dir_train, output_dir_test, crs, transform,train=train)\n",
    "        del img_data,label_data, slices\n",
    "        if i%100 == 0:\n",
    "            gc.collect()"
   ]
  },
  {
   "cell_type": "code",
   "execution_count": 4,
   "metadata": {},
   "outputs": [
    {
     "name": "stderr",
     "output_type": "stream",
     "text": [
      "Processing Raster Files: 100%|███████████████████████████████████████████████████| 3418/3418 [2:16:37<00:00,  2.40s/it]\n"
     ]
    }
   ],
   "source": [
    "main()"
   ]
  }
 ],
 "metadata": {
  "kernelspec": {
   "display_name": "Python 3 (ipykernel)",
   "language": "python",
   "name": "python3"
  },
  "language_info": {
   "codemirror_mode": {
    "name": "ipython",
    "version": 3
   },
   "file_extension": ".py",
   "mimetype": "text/x-python",
   "name": "python",
   "nbconvert_exporter": "python",
   "pygments_lexer": "ipython3",
   "version": "3.12.1"
  }
 },
 "nbformat": 4,
 "nbformat_minor": 4
}
