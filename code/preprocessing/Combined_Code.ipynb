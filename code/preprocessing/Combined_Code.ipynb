{
 "cells": [
  {
   "cell_type": "markdown",
   "id": "1797b33d-95fa-4654-9413-a062215a2f6c",
   "metadata": {},
   "source": [
    "## Code 1 "
   ]
  },
  {
   "cell_type": "code",
   "execution_count": 1,
   "id": "4a5e9609-fbe2-4551-9687-6029a734aca1",
   "metadata": {},
   "outputs": [],
   "source": [
    "import subprocess"
   ]
  },
  {
   "cell_type": "code",
   "execution_count": 2,
   "id": "ae46251b-2c87-4fea-b233-16b410595cc0",
   "metadata": {},
   "outputs": [
    {
     "name": "stdout",
     "output_type": "stream",
     "text": [
      "gdal_translate -a_nodata none -ot Byte -co 'BIGTIFF=YES' -co 'COMPRESS=LZW' -b 1 -b 2 -b 3 image_4.tif image_4_rgb.tif\n"
     ]
    },
    {
     "data": {
      "text/plain": [
       "0"
      ]
     },
     "execution_count": 2,
     "metadata": {},
     "output_type": "execute_result"
    }
   ],
   "source": [
    "# Run from here\n",
    "input = 'image_4.tif'\n",
    "x = \"gdal_translate -a_nodata none -ot Byte -co 'BIGTIFF=YES' -co 'COMPRESS=LZW' -b 1 -b 2 -b 3 %s %s\" % (input, input.replace('.tif', '_rgb.tif'))\n",
    "print(x)\n",
    "subprocess.call(x, shell=True)"
   ]
  },
  {
   "cell_type": "code",
   "execution_count": 3,
   "id": "fbfedee9-3a98-48f2-892c-f846a157a9f4",
   "metadata": {},
   "outputs": [
    {
     "data": {
      "text/plain": [
       "1"
      ]
     },
     "execution_count": 3,
     "metadata": {},
     "output_type": "execute_result"
    }
   ],
   "source": [
    "# before that, activate test_env2 with the command: conda activate test_env2\n",
    "# copy the code of x and paste it in miniconda. \n",
    "# make sure that the cd is correct\n",
    "x = 'python C:/ProgramData/Miniconda/envs/test_env2/Scripts/gdal_calc.py --co=\"COMPRESS=LZW\" -A image_4_rgb.tif --outfile=image_4_labels.tif --calc=\"A*0\"'\n",
    "subprocess.call(x, shell=True)"
   ]
  },
  {
   "cell_type": "markdown",
   "id": "2792fd5e-4393-449c-a7ef-02cf3cb1f62f",
   "metadata": {},
   "source": [
    "x = \"gdalinfo --version\"\n",
    "subprocess.call(x, shell=True)"
   ]
  },
  {
   "cell_type": "markdown",
   "id": "a05af8ec-3eb1-4d70-9f19-7b04312e4b9b",
   "metadata": {},
   "source": [
    "## Run From miniconda:This code deletes the alpha band in the raster"
   ]
  },
  {
   "cell_type": "code",
   "execution_count": 4,
   "id": "11537a13-c588-4ffb-959c-ae888cd234d5",
   "metadata": {},
   "outputs": [
    {
     "name": "stdout",
     "output_type": "stream",
     "text": [
      "Input file size is 35185, 35185\n",
      "0...10...20...30...40...50...60...70...80...90...100 - done.\n"
     ]
    }
   ],
   "source": [
    "# Delete Alpha Band - do it from the miniconda prompt and not from jupyter notebook for now\n",
    "!gdal_translate -ot Byte -co \"BIGTIFF=YES\" -co \"COMPRESS=LZW\" -b 1 -b 2 -b 3 image_4.tif image_4_rgb.tif\n"
   ]
  },
  {
   "cell_type": "markdown",
   "id": "59d7f28a-6c83-4cf7-8d88-cada97011f62",
   "metadata": {},
   "source": [
    "# Delete Alpha Band \n",
    "y = 'gdal_translate -ot Byte -co \"BIGTIFF=YES\" -co \"COMPRESS=LZW\" -b 1 -b 2 -b 3 image_4.tif image_4_rgb.tif'\n",
    "subprocess.call(y, shell=True)"
   ]
  },
  {
   "cell_type": "markdown",
   "id": "010bc063-0441-4d6f-b368-58b2d06492f3",
   "metadata": {},
   "source": [
    "## Code 2 - miniconda"
   ]
  },
  {
   "cell_type": "markdown",
   "id": "8d129be9-c612-463f-a8ec-ee0c6048dc16",
   "metadata": {},
   "source": [
    "In this code you do the next steps:\n",
    "step 1: Create new empty raster with values of 0\n",
    "step 2: Add the labels woth value of 255 (white) to the tif\n",
    "step 3: Combine targets band with RGB bands, create a tif file for each band\n",
    "step 4: combine all the bands b1,b2,b3 and image labels together into vrt format\n",
    "step 5: create a tif file from the vrt file\n",
    "step 6: Retile (mkdir tiles)\n",
    "step 7: Create tiles of 1024 X 1024 from the image (in this case image793_all.tif)\n"
   ]
  },
  {
   "cell_type": "markdown",
   "id": "2846ed89-b48a-4a4f-9373-df69e7b59ba2",
   "metadata": {},
   "source": [
    "## From The miniconda:"
   ]
  },
  {
   "cell_type": "code",
   "execution_count": 5,
   "id": "2a8e567a-935d-4035-8149-dd45cef6a596",
   "metadata": {},
   "outputs": [
    {
     "name": "stdout",
     "output_type": "stream",
     "text": [
      "0...10...20...30...40...50...60...70...80...90...100 - done.\n"
     ]
    },
    {
     "name": "stderr",
     "output_type": "stream",
     "text": [
      "N:\\Tal\\tiles code 2017\\gdal_calc.py:4: DeprecationWarning: pkg_resources is deprecated as an API. See https://setuptools.pypa.io/en/latest/pkg_resources.html\n",
      "  __import__('pkg_resources').run_script('GDAL==3.8.2', 'gdal_calc.py')\n"
     ]
    }
   ],
   "source": [
    "# Rasterize targets (0=background, 1=target)\n",
    "# Creates new empty raster with values of 0\n",
    "# python C:/ProgramData/Miniconda/envs/test_env2/Scripts/gdal_calc.py --co=\"COMPRESS=LZW\" -A image_8_rgb.tif --outfile=image_8_labels.tif --calc=\"A*0\"\n",
    "\n",
    "# If does not work, use the next command:\n",
    "# python C:/ProgramData/Miniconda/envs/test_env2/Scripts/gdal_calc.py --co=\"COMPRESS=LZW\" -A image_2_rgb.tif --outfile=image_2_labels.tif --calc=\"A*0\" --overwrite\n",
    "!python gdal_calc.py --co=\"COMPRESS=LZW\" -A image_4_rgb.tif --outfile=image_4_labels.tif --calc=\"A*0\" --overwrite\n",
    "#if that does not work, use the command conda activate test_env2"
   ]
  },
  {
   "cell_type": "markdown",
   "id": "4dd10e67-4360-44b9-a487-4981f670ef9d",
   "metadata": {},
   "source": [
    "## From The miniconda:"
   ]
  },
  {
   "cell_type": "code",
   "execution_count": null,
   "id": "1bb5fdad-97b2-48b4-9fc3-d2249281ee52",
   "metadata": {},
   "outputs": [
    {
     "name": "stdout",
     "output_type": "stream",
     "text": [
      "0...10...20...30...40...50...60...70...80...90...100 - done.\n",
      "Input file size is 35185, 35185\n",
      "0...10...20...30...40...50...60...70...80...90...100 - done.\n",
      "Input file size is 35185, 35185\n",
      "0...10...20...30...40...50...60...70...80...90...100 - done.\n",
      "Input file size is 35185, 35185\n",
      "0...10...20...30...40...50...60...70...80...90...100 - done.\n",
      "0...10...20...30...40...50...60...70...80...90...100 - done.\n"
     ]
    },
    {
     "name": "stderr",
     "output_type": "stream",
     "text": [
      "Warning 1: Can't open image4_b1.tif. Skipping it\n"
     ]
    },
    {
     "name": "stdout",
     "output_type": "stream",
     "text": [
      "Input file size is 35185, 35185\n",
      "0...10...20...30...40...50...60...70...80...90...100 - done.\n"
     ]
    }
   ],
   "source": [
    "# Rasterize targets (0=background, 1=target)\n",
    "# Creates new empty raster with values of 0\n",
    "# python C:/ProgramData/Miniconda/envs/test_env2/Scripts/gdal_calc.py --co=\"COMPRESS=LZW\" -A image_2_rgb.tif --outfile=image_2_labels.tif --calc=\"A*0\"\n",
    "\n",
    "# Adds the labels with value of 255 (white) to the tif\n",
    "!gdal_rasterize -b 1 -burn 255 -l labels_4 labels_4.shp image_4_labels.tif\n",
    "\n",
    "\n",
    "# Combine targets band with RGB bands\n",
    "# Create a tif file for each band\n",
    "!gdal_translate -b 1 -co COMPRESS=LZW -co BIGTIFF=YES --config GDAL_TIFF_INTERNAL_MASK YES image_4_rgb.tif image_4_b1.tif\n",
    "!gdal_translate -b 2 -co COMPRESS=LZW -co BIGTIFF=YES --config GDAL_TIFF_INTERNAL_MASK YES image_4_rgb.tif image_4_b2.tif\n",
    "!gdal_translate -b 3 -co COMPRESS=LZW -co BIGTIFF=YES --config GDAL_TIFF_INTERNAL_MASK YES image_4_rgb.tif image_4_b3.tif\n",
    "\n",
    "# Combine all the bands b1,b2,b3 and image labels together into vrt format\n",
    "!gdalbuildvrt -separate image_4_all.vrt image4_b1.tif image_4_b2.tif image_4_b3.tif image_4_labels.tif\n",
    "\n",
    "# Create a tif file from the vrt file\n",
    "!gdal_translate -co COMPRESS=LZW -co BIGTIFF=YES --config GDAL_TIFF_INTERNAL_MASK YES image_4_all.vrt image_4_all.tif\n",
    "\n",
    "# Retile\n",
    "!mkdir tiles\n",
    "\n",
    "# Create tiles of 1024 X 1024 from the image (in this case image793_all.tif)\n",
    "# python D:/Anaconda/pkgs/gdal-3.6.2-py311ha692538_1/Scripts/gdal_retile.py -co COMPRESS=LZW -ps 1024 1024 -targetDir tiles -tileIndex index image_793_all.tif\n",
    "\n",
    "# The code adds the tiles to the folder called \"tiles\" and gives them an index. For example: image_4_all + _01_01 will be image_4_all_01_01 and so on... \n",
    "!python C:/ProgramData/Miniconda/envs/test_env2/Scripts/gdal_retile.py -co COMPRESS=LZW -ps 256 256 -targetDir tiles -tileIndex index image_4_all.tif\n"
   ]
  },
  {
   "cell_type": "markdown",
   "id": "424f63b4-4011-4f5e-b280-8ddc18f568a3",
   "metadata": {},
   "source": [
    "## Code 3 - prepare tile catalog checkpoint"
   ]
  },
  {
   "cell_type": "markdown",
   "id": "9d5a2f97-3e03-4061-b783-dc0a7fca5a76",
   "metadata": {},
   "source": [
    "### .3Setup"
   ]
  },
  {
   "cell_type": "code",
   "execution_count": null,
   "id": "15ce0e87-d448-448e-b4c8-76b8b6d497fe",
   "metadata": {},
   "outputs": [],
   "source": [
    "import rasterio\n",
    "import glob\n",
    "import csv\n",
    "import tqdm\n",
    "import os"
   ]
  },
  {
   "cell_type": "code",
   "execution_count": null,
   "id": "036176a4-4129-4f1a-bf6e-6c2266ef2394",
   "metadata": {},
   "outputs": [],
   "source": [
    "import pandas as pd\n",
    "import matplotlib.pyplot as plt\n",
    "pd.options.display.max_rows = 6\n",
    "pd.options.display.max_columns = 10\n",
    "pd.options.display.max_colwidth = 35\n",
    "plt.rcParams['figure.figsize'] = (6, 6)"
   ]
  },
  {
   "cell_type": "markdown",
   "id": "593af539-71b4-42d7-a6ef-b890de24c1e3",
   "metadata": {},
   "source": [
    "### Settings"
   ]
  },
  {
   "cell_type": "code",
   "execution_count": null,
   "id": "8ad5d9b3-8268-4d7d-afec-def63f3f16c6",
   "metadata": {},
   "outputs": [],
   "source": [
    "# path = 'D:/OneDrive - BGU/Tal-Roni/PV/Oded Rotem/raw_files_2017/tiles/'  \n",
    "path = r'N:\\Tal\\tiles code 2017\\tiles'\n",
    "print(path)"
   ]
  },
  {
   "cell_type": "markdown",
   "id": "a0bc80c8-0f2e-48b1-b338-a042fdc57080",
   "metadata": {},
   "source": [
    "### List files"
   ]
  },
  {
   "cell_type": "code",
   "execution_count": null,
   "id": "35fe6672-b3d0-46b2-b99d-3db3689485a8",
   "metadata": {},
   "outputs": [],
   "source": [
    "tif_files = glob.glob(os.path.join(path, '*.tif'))  # Finds .tif files directly\n",
    "for file in tif_files:\n",
    "    print(file)"
   ]
  },
  {
   "cell_type": "code",
   "execution_count": null,
   "id": "601698bd-e234-45ca-85a0-a9336ab11349",
   "metadata": {},
   "outputs": [],
   "source": [
    "len(tif_files)"
   ]
  },
  {
   "cell_type": "markdown",
   "id": "aa6897b9-d16a-4516-b03e-68ec091546d1",
   "metadata": {},
   "source": [
    "### Catalog"
   ]
  },
  {
   "cell_type": "code",
   "execution_count": 12,
   "id": "87d604bc-b7d7-4d7a-ac93-4c908d74e954",
   "metadata": {},
   "outputs": [
    {
     "ename": "PermissionError",
     "evalue": "[Errno 13] Permission denied: 'result_12_tile_catalog.csv'",
     "output_type": "error",
     "traceback": [
      "\u001b[1;31m---------------------------------------------------------------------------\u001b[0m",
      "\u001b[1;31mPermissionError\u001b[0m                           Traceback (most recent call last)",
      "Cell \u001b[1;32mIn[12], line 2\u001b[0m\n\u001b[0;32m      1\u001b[0m \u001b[38;5;66;03m# אין צורך לייצר קובץ. הפקודה יוצרת את קובץ התיעוד \u001b[39;00m\n\u001b[1;32m----> 2\u001b[0m f \u001b[38;5;241m=\u001b[39m \u001b[38;5;28;43mopen\u001b[39;49m\u001b[43m(\u001b[49m\u001b[38;5;124;43m'\u001b[39;49m\u001b[38;5;124;43mresult_12_tile_catalog.csv\u001b[39;49m\u001b[38;5;124;43m'\u001b[39;49m\u001b[43m,\u001b[49m\u001b[43m \u001b[49m\u001b[38;5;124;43m'\u001b[39;49m\u001b[38;5;124;43mw\u001b[39;49m\u001b[38;5;124;43m'\u001b[39;49m\u001b[43m)\u001b[49m\n\u001b[0;32m      3\u001b[0m writer \u001b[38;5;241m=\u001b[39m csv\u001b[38;5;241m.\u001b[39mDictWriter(f, fieldnames\u001b[38;5;241m=\u001b[39m[\u001b[38;5;124m'\u001b[39m\u001b[38;5;124mfilename\u001b[39m\u001b[38;5;124m'\u001b[39m, \u001b[38;5;124m'\u001b[39m\u001b[38;5;124mrows\u001b[39m\u001b[38;5;124m'\u001b[39m, \u001b[38;5;124m'\u001b[39m\u001b[38;5;124mcols\u001b[39m\u001b[38;5;124m'\u001b[39m, \u001b[38;5;124m'\u001b[39m\u001b[38;5;124mpix_panel_count\u001b[39m\u001b[38;5;124m'\u001b[39m])\n\u001b[0;32m      4\u001b[0m writer\u001b[38;5;241m.\u001b[39mwriteheader()\n",
      "File \u001b[1;32mC:\\ProgramData\\Miniconda\\envs\\test_env2\\Lib\\site-packages\\IPython\\core\\interactiveshell.py:310\u001b[0m, in \u001b[0;36m_modified_open\u001b[1;34m(file, *args, **kwargs)\u001b[0m\n\u001b[0;32m    303\u001b[0m \u001b[38;5;28;01mif\u001b[39;00m file \u001b[38;5;129;01min\u001b[39;00m {\u001b[38;5;241m0\u001b[39m, \u001b[38;5;241m1\u001b[39m, \u001b[38;5;241m2\u001b[39m}:\n\u001b[0;32m    304\u001b[0m     \u001b[38;5;28;01mraise\u001b[39;00m \u001b[38;5;167;01mValueError\u001b[39;00m(\n\u001b[0;32m    305\u001b[0m         \u001b[38;5;124mf\u001b[39m\u001b[38;5;124m\"\u001b[39m\u001b[38;5;124mIPython won\u001b[39m\u001b[38;5;124m'\u001b[39m\u001b[38;5;124mt let you open fd=\u001b[39m\u001b[38;5;132;01m{\u001b[39;00mfile\u001b[38;5;132;01m}\u001b[39;00m\u001b[38;5;124m by default \u001b[39m\u001b[38;5;124m\"\u001b[39m\n\u001b[0;32m    306\u001b[0m         \u001b[38;5;124m\"\u001b[39m\u001b[38;5;124mas it is likely to crash IPython. If you know what you are doing, \u001b[39m\u001b[38;5;124m\"\u001b[39m\n\u001b[0;32m    307\u001b[0m         \u001b[38;5;124m\"\u001b[39m\u001b[38;5;124myou can use builtins\u001b[39m\u001b[38;5;124m'\u001b[39m\u001b[38;5;124m open.\u001b[39m\u001b[38;5;124m\"\u001b[39m\n\u001b[0;32m    308\u001b[0m     )\n\u001b[1;32m--> 310\u001b[0m \u001b[38;5;28;01mreturn\u001b[39;00m \u001b[43mio_open\u001b[49m\u001b[43m(\u001b[49m\u001b[43mfile\u001b[49m\u001b[43m,\u001b[49m\u001b[43m \u001b[49m\u001b[38;5;241;43m*\u001b[39;49m\u001b[43margs\u001b[49m\u001b[43m,\u001b[49m\u001b[43m \u001b[49m\u001b[38;5;241;43m*\u001b[39;49m\u001b[38;5;241;43m*\u001b[39;49m\u001b[43mkwargs\u001b[49m\u001b[43m)\u001b[49m\n",
      "\u001b[1;31mPermissionError\u001b[0m: [Errno 13] Permission denied: 'result_12_tile_catalog.csv'"
     ]
    }
   ],
   "source": [
    "# אין צורך לייצר קובץ. הפקודה יוצרת את קובץ התיעוד \n",
    "f = open('result_12_tile_catalog.csv', 'w')\n",
    "writer = csv.DictWriter(f, fieldnames=['filename', 'rows', 'cols', 'pix_panel_count'])\n",
    "writer.writeheader()"
   ]
  },
  {
   "cell_type": "markdown",
   "id": "2884d995-60a8-45ca-a55f-ffb66b7d550c",
   "metadata": {},
   "source": [
    "### Write tile properties"
   ]
  },
  {
   "cell_type": "code",
   "execution_count": null,
   "id": "a87272a3-387b-41ff-8935-d6e9bcbce542",
   "metadata": {},
   "outputs": [],
   "source": [
    "for i in tqdm.tqdm(tif_files):\n",
    "    src = rasterio.open(i)\n",
    "    r = src.read(4)\n",
    "    row = {}\n",
    "    row['filename'] = os.path.basename(i)\n",
    "    row['rows'] = r.shape[0]\n",
    "    row['cols'] = r.shape[1]\n",
    "    row['pix_panel_count'] = (r != 0).sum()\n",
    "    writer.writerow(row)"
   ]
  },
  {
   "cell_type": "code",
   "execution_count": null,
   "id": "5dc53dba-e153-4b00-bea0-7c0adc75cb74",
   "metadata": {},
   "outputs": [],
   "source": [
    "f.close()"
   ]
  },
  {
   "cell_type": "markdown",
   "id": "bd8efbe0-3b7e-4c40-bc71-4c322dc3badc",
   "metadata": {},
   "source": [
    "## Code 4 - filter checkpoint"
   ]
  },
  {
   "cell_type": "markdown",
   "id": "ab834683-6e15-45e7-925e-6586c55d064b",
   "metadata": {},
   "source": [
    "### Setup"
   ]
  },
  {
   "cell_type": "code",
   "execution_count": null,
   "id": "c14c9adf-63bf-41b9-b9d6-f077b505f9fa",
   "metadata": {},
   "outputs": [],
   "source": [
    "import numpy as np\n",
    "import pandas as pd"
   ]
  },
  {
   "cell_type": "code",
   "execution_count": null,
   "id": "43ef1d3c-2186-4a9d-9e2e-85283ca5a46d",
   "metadata": {},
   "outputs": [],
   "source": [
    "import pandas as pd\n",
    "import matplotlib.pyplot as plt\n",
    "pd.options.display.max_rows = 6\n",
    "pd.options.display.max_columns = 10\n",
    "pd.options.display.max_colwidth = 35\n",
    "plt.rcParams['figure.figsize'] = (6, 6)"
   ]
  },
  {
   "cell_type": "markdown",
   "id": "69d39b38-c139-4289-85e7-e14e5895ddd1",
   "metadata": {},
   "source": [
    "### Read catalog"
   ]
  },
  {
   "cell_type": "code",
   "execution_count": null,
   "id": "ba068494-176e-4e02-a6bb-e285fe00e4ea",
   "metadata": {},
   "outputs": [],
   "source": [
    "dat = pd.read_csv('result_12_tile_catalog.csv')\n",
    "dat"
   ]
  },
  {
   "cell_type": "markdown",
   "id": "8be138d5-3a91-4964-af62-8cc272618d1f",
   "metadata": {},
   "source": [
    "### Remove incomplete tiles"
   ]
  },
  {
   "cell_type": "code",
   "execution_count": null,
   "id": "d026d127-9944-47da-88e0-746a94908d1b",
   "metadata": {},
   "outputs": [],
   "source": [
    "sel = (dat['rows'] != 256) | (dat['cols'] != 256) \n",
    "dat = dat[~sel].copy()\n",
    "dat = dat.drop(columns=['rows', 'cols'])\n",
    "dat"
   ]
  },
  {
   "cell_type": "markdown",
   "id": "920f2406-a018-42f8-a4c9-33d2fda2d337",
   "metadata": {},
   "source": [
    "### Classify to panels/empty"
   ]
  },
  {
   "cell_type": "code",
   "execution_count": null,
   "id": "4fa1f34b-60d0-44fc-b733-db42a1e62c8b",
   "metadata": {},
   "outputs": [],
   "source": [
    "dat['type'] = 'empty'\n",
    "dat.loc[dat['pix_panel_count'] > 0, 'type'] = 'panels'\n",
    "dat = dat.drop(columns='pix_panel_count')\n",
    "dat"
   ]
  },
  {
   "cell_type": "code",
   "execution_count": null,
   "id": "218b5f8b-fefa-497a-b4ef-141e341fcc9a",
   "metadata": {},
   "outputs": [],
   "source": [
    "dat['type'].value_counts()"
   ]
  },
  {
   "cell_type": "code",
   "execution_count": null,
   "id": "6578c1bf-8be6-4ea4-b2eb-8516ef29ab84",
   "metadata": {},
   "outputs": [],
   "source": [
    "dat['type'].value_counts() / dat.shape[0]"
   ]
  },
  {
   "cell_type": "markdown",
   "id": "1704419a-1399-4ccc-a12f-539b90dde2f6",
   "metadata": {},
   "source": [
    "### Remove 50% of empty tiles"
   ]
  },
  {
   "cell_type": "code",
   "execution_count": null,
   "id": "33a595d9-93e2-46f8-83fd-6a29f6069ab2",
   "metadata": {},
   "outputs": [],
   "source": [
    "np.random.seed(1)\n",
    "dat['r'] = np.random.rand(dat.shape[0])\n",
    "dat"
   ]
  },
  {
   "cell_type": "code",
   "execution_count": null,
   "id": "24a62d55-fef8-4409-bfb8-769d2fc8fefa",
   "metadata": {},
   "outputs": [],
   "source": [
    "sel = (dat['type'] == 'empty') & (dat['r'] >= 0.5) # prop. of empty tiles to keep\n",
    "dat = dat[~sel]\n",
    "dat"
   ]
  },
  {
   "cell_type": "code",
   "execution_count": null,
   "id": "d3854f84-a2cf-4e84-8605-b3f6e4876bee",
   "metadata": {},
   "outputs": [],
   "source": [
    "dat['type'].value_counts()"
   ]
  },
  {
   "cell_type": "code",
   "execution_count": null,
   "id": "b416f4f4-13b2-4e40-bf3b-c72a13501cd5",
   "metadata": {},
   "outputs": [],
   "source": [
    "dat = dat.drop(columns='r')\n",
    "dat"
   ]
  },
  {
   "cell_type": "markdown",
   "id": "7ef0b4c3-560b-4acf-bca3-ecc36ba6b5f3",
   "metadata": {},
   "source": [
    "### Sort"
   ]
  },
  {
   "cell_type": "code",
   "execution_count": null,
   "id": "ddde3d8e-9462-4dab-860d-b2eeb9154eb6",
   "metadata": {},
   "outputs": [],
   "source": [
    "dat = dat.sort_values(by='filename')\n",
    "dat"
   ]
  },
  {
   "cell_type": "markdown",
   "id": "f598cc2e-45ef-412f-af9f-168acac6c135",
   "metadata": {},
   "source": [
    "### Write"
   ]
  },
  {
   "cell_type": "code",
   "execution_count": null,
   "id": "dd4fef55-dd5f-41ff-8686-5a62755148e5",
   "metadata": {},
   "outputs": [],
   "source": [
    "dat.to_csv('result_21_tile_catalog_filtered.csv', index=False)"
   ]
  },
  {
   "cell_type": "markdown",
   "id": "e3a58203-1a5e-4c1c-a35e-36700dfee831",
   "metadata": {},
   "source": [
    "## Code 5 - copy tif files checkpoint"
   ]
  },
  {
   "cell_type": "markdown",
   "id": "34dce2e8-22a8-49fc-b21d-7deed93cd6e0",
   "metadata": {},
   "source": [
    "### Setup"
   ]
  },
  {
   "cell_type": "code",
   "execution_count": null,
   "id": "cd4bdbaa-1285-4bad-904b-ca9769deb221",
   "metadata": {},
   "outputs": [],
   "source": [
    "import pandas as pd\n",
    "import os\n",
    "import shutil"
   ]
  },
  {
   "cell_type": "markdown",
   "id": "cc0a7774-5b9f-4e52-9e0c-7d43bb8f5a34",
   "metadata": {},
   "source": [
    "### Settings"
   ]
  },
  {
   "cell_type": "code",
   "execution_count": null,
   "id": "1383c994-ca04-4d5f-9f58-e8bea229ffeb",
   "metadata": {},
   "outputs": [],
   "source": [
    "# path_in = 'D:/OneDrive - BGU/Tal-Roni/PV/Oded Rotem/raw_files_2017/tiles/'\n",
    "# path_out = 'D:/OneDrive - BGU/Tal-Roni/PV/Oded Rotem/raw_files_2017/tiles/tiles_filtered/'\n",
    "\n",
    "path_in = r'N:\\Tal\\tiles code 2017\\tiles'\n",
    "path_out = r'N:\\Tal\\tiles code 2017\\tiles\\tiles_filtered'"
   ]
  },
  {
   "cell_type": "markdown",
   "id": "03293821-9683-4ba5-b64d-26a7c56a9df2",
   "metadata": {},
   "source": [
    "### Create dirs"
   ]
  },
  {
   "cell_type": "code",
   "execution_count": null,
   "id": "ad9fe893-da8b-496b-b517-0eaff1cd47e5",
   "metadata": {},
   "outputs": [],
   "source": [
    "# Create the main output directory if it doesn't exist\n",
    "if not os.path.exists(path_out):\n",
    "    os.makedirs(path_out)\n",
    "\n",
    "# Create subdirectories within the main output directory\n",
    "for subdir in ['0', '1']:\n",
    "    for subsubdir in ['image', 'labels']:\n",
    "        # Use os.path.join for clear path construction\n",
    "        os.makedirs(os.path.join(path_out, subdir, subsubdir))"
   ]
  },
  {
   "cell_type": "markdown",
   "id": "e374c732-b17a-4d86-a0ae-c3b7db8cb9cd",
   "metadata": {},
   "source": [
    "### Read catalog"
   ]
  },
  {
   "cell_type": "code",
   "execution_count": null,
   "id": "f0f528f6-6571-416a-957e-9f72e57e2661",
   "metadata": {},
   "outputs": [],
   "source": [
    "dat = pd.read_csv('result_21_tile_catalog_filtered.csv')\n",
    "dat.loc[dat['type'] == 'empty', 'type'] = '0'\n",
    "dat.loc[dat['type'] == 'panels', 'type'] = '1'\n",
    "dat"
   ]
  },
  {
   "cell_type": "code",
   "execution_count": null,
   "id": "284fafc5-ad96-4d58-b50e-6b742cecdb11",
   "metadata": {},
   "outputs": [],
   "source": [
    "dat = dat[['filename', 'type']].to_dict(orient='records')\n",
    "dat[0]"
   ]
  },
  {
   "cell_type": "markdown",
   "id": "e0a49939-e165-4d63-83f0-80847158f5aa",
   "metadata": {},
   "source": [
    "### Copy"
   ]
  },
  {
   "cell_type": "code",
   "execution_count": null,
   "id": "34e3b24c-ebcc-48cd-9435-46d66dcd6526",
   "metadata": {},
   "outputs": [],
   "source": [
    "# Fixed code - David\n",
    "for i in dat:\n",
    "    src_file = os.path.join(path_in, i['filename'])\n",
    "    dst_dir = os.path.join(path_out, i['type'])\n",
    "    dst_file = os.path.join(dst_dir, i['filename'])\n",
    "\n",
    "    if os.path.exists(src_file):\n",
    "        try:\n",
    "            shutil.copy(src_file, dst_file)\n",
    "            print(f\"Copied {src_file} to {dst_file}\")  # Optional success message\n",
    "        except Exception as e:\n",
    "            print(f\"Error copying {src_file}: {e}\")\n",
    "    else:\n",
    "        print(f\"File not found: {src_file}\")"
   ]
  },
  {
   "cell_type": "markdown",
   "id": "86158b50-c887-4db2-89a2-72147d0b26bd",
   "metadata": {},
   "source": [
    "# Original code - Michael Dorman\n",
    "for i in dat:\n",
    "    shutil.copy(path_in + i['filename'], path_out + '/' + i['type'] + '/' + i['filename'])"
   ]
  },
  {
   "cell_type": "markdown",
   "id": "682e45c9-03ae-418b-bd9f-75783a472c99",
   "metadata": {},
   "source": [
    "## Code 6 - split to RGB and labels checkpoint"
   ]
  },
  {
   "cell_type": "markdown",
   "id": "108c6c3d-83e2-4c79-981f-2019cf2652a9",
   "metadata": {},
   "source": [
    "### Setup"
   ]
  },
  {
   "cell_type": "code",
   "execution_count": null,
   "id": "3a2ce808-7918-4e62-8724-83fb5c50ccd2",
   "metadata": {},
   "outputs": [],
   "source": [
    "import glob\n",
    "import os"
   ]
  },
  {
   "cell_type": "markdown",
   "id": "ba53863d-047e-46bf-b97c-315c5df1c818",
   "metadata": {},
   "source": [
    "### Settings"
   ]
  },
  {
   "cell_type": "code",
   "execution_count": null,
   "id": "8020b3cf-143c-4559-8f25-41cc34a26983",
   "metadata": {},
   "outputs": [],
   "source": [
    "path = r'N:\\Tal\\tiles code 2017\\tiles\\tiles_filtered'\n",
    "print(path)"
   ]
  },
  {
   "cell_type": "markdown",
   "id": "2aeaed82-daa0-4569-9d2b-443dc3de6c16",
   "metadata": {},
   "source": [
    "### List files"
   ]
  },
  {
   "cell_type": "code",
   "execution_count": null,
   "id": "e4e8ec77-2724-4b66-b299-f40b38d1d051",
   "metadata": {},
   "outputs": [],
   "source": [
    "dirs = [\n",
    "    '0/',\n",
    "    '1/',]"
   ]
  },
  {
   "cell_type": "markdown",
   "id": "3a0992d1-95e6-4782-8445-46e7464f5549",
   "metadata": {},
   "source": [
    "# Original code - Micheal Dorman\n",
    "for i in dirs:\n",
    "    path1 = path + i\n",
    "    files = glob.glob(path1 + '*.tif')\n",
    "    print(len(files))\n",
    "    for j in files:\n",
    "        filename_out = '_'.join(os.path.basename(j).split('_')[-2:])\n",
    "        os.system('gdal_translate -b 1 -b 2 -b 3 \"%s\" \"%simage/%s\"'  % (j, path1, filename_out))\n",
    "        os.system('gdal_translate -b 4           \"%s\" \"%slabels/%s\"' % (j, path1, filename_out))\n",
    "        os.remove(j)"
   ]
  },
  {
   "cell_type": "code",
   "execution_count": null,
   "id": "d70275c1-5807-42ee-9064-c4b70251c339",
   "metadata": {},
   "outputs": [],
   "source": [
    "# Fixed code - David\n",
    "for i in dirs:\n",
    "    path1 = os.path.join(path, i)  # Use os.path.join for clarity\n",
    "    print(f\"Checking directory: {path1}\")\n",
    "    files = glob.glob(os.path.join(path1, '*.tif'))  # Use os.path.join for path construction\n",
    "    print(f\"Found files: {files}\")\n",
    "    for j in files:\n",
    "        filename_out = '_'.join(os.path.basename(j).split('_')[-2:])\n",
    "        os.system('gdal_translate -b 1 -b 2 -b 3 \"%s\" \"%simage/%s\"'  % (j, path1, filename_out))\n",
    "        os.system('gdal_translate -b 4           \"%s\" \"%slabels/%s\"' % (j, path1, filename_out))\n",
    "        os.remove(j)"
   ]
  },
  {
   "cell_type": "markdown",
   "id": "ae288202-3119-48b9-a38a-dbf59cbcd48e",
   "metadata": {},
   "source": [
    "### Rename"
   ]
  },
  {
   "cell_type": "code",
   "execution_count": null,
   "id": "e9353443-bc7c-4746-8845-005410b6650f",
   "metadata": {},
   "outputs": [],
   "source": [
    "# Original code - Michael Dorman with a fix (david) insted of path i wrote path1\n",
    "files = glob.glob(path1 + '**/*.tif', recursive=True)\n",
    "files[:5]"
   ]
  },
  {
   "cell_type": "code",
   "execution_count": null,
   "id": "7c0fb260-1823-4adf-8613-3bfab160a164",
   "metadata": {},
   "outputs": [],
   "source": [
    "for i in files:\n",
    "    os.rename(i, os.path.dirname(i) + '/image1_' + os.path.basename(i))"
   ]
  },
  {
   "cell_type": "code",
   "execution_count": null,
   "id": "e90001d6-e72d-47e9-9e6d-24ab1ac49065",
   "metadata": {},
   "outputs": [],
   "source": [
    "path2 = r'N:\\Tal\\tiles code 2017\\tiles\\tiles_filtered\\0/'\n",
    "path2"
   ]
  },
  {
   "cell_type": "code",
   "execution_count": null,
   "id": "380ae742-3b9d-4a98-88c9-3ec7822988c9",
   "metadata": {},
   "outputs": [],
   "source": [
    "# Original code - Michael Dorman with a fix (david) insted of path i wrote path1\n",
    "files2 = glob.glob(path2 + '**/*.tif', recursive=True)\n",
    "files2[:5]"
   ]
  },
  {
   "cell_type": "code",
   "execution_count": null,
   "id": "491bd69d-ad0b-49d8-b368-0096faceca22",
   "metadata": {},
   "outputs": [],
   "source": [
    "for i in files2:\n",
    "    os.rename(i, os.path.dirname(i) + '/image1_' + os.path.basename(i))"
   ]
  },
  {
   "cell_type": "code",
   "execution_count": null,
   "id": "2400cee8-950a-4561-9e70-2028046ae388",
   "metadata": {},
   "outputs": [],
   "source": []
  },
  {
   "cell_type": "code",
   "execution_count": null,
   "id": "2bd80361-ed39-47b0-89f6-b4fc542f8b66",
   "metadata": {},
   "outputs": [],
   "source": []
  },
  {
   "cell_type": "code",
   "execution_count": null,
   "id": "7f3f6498-8943-48c5-a8cf-bee2df0482ed",
   "metadata": {},
   "outputs": [],
   "source": []
  }
 ],
 "metadata": {
  "kernelspec": {
   "display_name": "Python 3 (ipykernel)",
   "language": "python",
   "name": "python3"
  },
  "language_info": {
   "codemirror_mode": {
    "name": "ipython",
    "version": 3
   },
   "file_extension": ".py",
   "mimetype": "text/x-python",
   "name": "python",
   "nbconvert_exporter": "python",
   "pygments_lexer": "ipython3",
   "version": "3.12.1"
  }
 },
 "nbformat": 4,
 "nbformat_minor": 5
}
