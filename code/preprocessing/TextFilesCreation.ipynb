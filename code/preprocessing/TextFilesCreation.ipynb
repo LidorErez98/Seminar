{
 "cells": [
  {
   "cell_type": "code",
   "execution_count": 40,
   "id": "404f86da-39f4-4cfc-992d-75dd087cbd95",
   "metadata": {},
   "outputs": [],
   "source": [
    "import numpy as np\n",
    "import rasterio \n",
    "import os\n",
    "import matplotlib.pyplot as plt"
   ]
  },
  {
   "cell_type": "code",
   "execution_count": 46,
   "id": "c0026ae4-8882-4f47-ae8b-3a243f545b85",
   "metadata": {},
   "outputs": [
    {
     "name": "stderr",
     "output_type": "stream",
     "text": [
      "<>:1: SyntaxWarning: invalid escape sequence '\\T'\n",
      "<>:2: SyntaxWarning: invalid escape sequence '\\T'\n",
      "<>:4: SyntaxWarning: invalid escape sequence '\\T'\n",
      "<>:5: SyntaxWarning: invalid escape sequence '\\T'\n",
      "<>:7: SyntaxWarning: invalid escape sequence '\\T'\n",
      "<>:8: SyntaxWarning: invalid escape sequence '\\T'\n",
      "<>:10: SyntaxWarning: invalid escape sequence '\\T'\n",
      "<>:11: SyntaxWarning: invalid escape sequence '\\T'\n",
      "<>:1: SyntaxWarning: invalid escape sequence '\\T'\n",
      "<>:2: SyntaxWarning: invalid escape sequence '\\T'\n",
      "<>:4: SyntaxWarning: invalid escape sequence '\\T'\n",
      "<>:5: SyntaxWarning: invalid escape sequence '\\T'\n",
      "<>:7: SyntaxWarning: invalid escape sequence '\\T'\n",
      "<>:8: SyntaxWarning: invalid escape sequence '\\T'\n",
      "<>:10: SyntaxWarning: invalid escape sequence '\\T'\n",
      "<>:11: SyntaxWarning: invalid escape sequence '\\T'\n",
      "C:\\Users\\erezlid\\AppData\\Local\\Temp\\ipykernel_29940\\3085997838.py:1: SyntaxWarning: invalid escape sequence '\\T'\n",
      "  path = 'N:\\Tal/2020/train/0/image/'\n",
      "C:\\Users\\erezlid\\AppData\\Local\\Temp\\ipykernel_29940\\3085997838.py:2: SyntaxWarning: invalid escape sequence '\\T'\n",
      "  path_lbl = 'N:\\Tal/2020/train/0/labels/'\n",
      "C:\\Users\\erezlid\\AppData\\Local\\Temp\\ipykernel_29940\\3085997838.py:4: SyntaxWarning: invalid escape sequence '\\T'\n",
      "  path_1 = 'N:\\Tal/2020/train/1/image/'\n",
      "C:\\Users\\erezlid\\AppData\\Local\\Temp\\ipykernel_29940\\3085997838.py:5: SyntaxWarning: invalid escape sequence '\\T'\n",
      "  path_1_lbl = 'N:\\Tal/2020/train/1/labels/'\n",
      "C:\\Users\\erezlid\\AppData\\Local\\Temp\\ipykernel_29940\\3085997838.py:7: SyntaxWarning: invalid escape sequence '\\T'\n",
      "  path_test = 'N:\\Tal/2020/test/0/image/'\n",
      "C:\\Users\\erezlid\\AppData\\Local\\Temp\\ipykernel_29940\\3085997838.py:8: SyntaxWarning: invalid escape sequence '\\T'\n",
      "  path_test_lbl = 'N:\\Tal/2020/test/0/labels/'\n",
      "C:\\Users\\erezlid\\AppData\\Local\\Temp\\ipykernel_29940\\3085997838.py:10: SyntaxWarning: invalid escape sequence '\\T'\n",
      "  path_1_test = 'N:\\Tal/2020/test/1/image/'\n",
      "C:\\Users\\erezlid\\AppData\\Local\\Temp\\ipykernel_29940\\3085997838.py:11: SyntaxWarning: invalid escape sequence '\\T'\n",
      "  path_1_test_lbl = 'N:\\Tal/2020/test/1/labels/'\n"
     ]
    }
   ],
   "source": [
    "path = 'N:\\Tal/2020/train/0/image/'\n",
    "path_lbl = 'N:\\Tal/2020/train/0/labels/'\n",
    "\n",
    "path_1 = 'N:\\Tal/2020/train/1/image/'\n",
    "path_1_lbl = 'N:\\Tal/2020/train/1/labels/'\n",
    "\n",
    "path_test = 'N:\\Tal/2020/test/0/image/'\n",
    "path_test_lbl = 'N:\\Tal/2020/test/0/labels/'\n",
    "\n",
    "path_1_test = 'N:\\Tal/2020/test/1/image/'\n",
    "path_1_test_lbl = 'N:\\Tal/2020/test/1/labels/'\n",
    "\n"
   ]
  },
  {
   "cell_type": "code",
   "execution_count": 42,
   "id": "82e1a178-3aeb-49f9-9a97-70617ff31b9f",
   "metadata": {},
   "outputs": [],
   "source": []
  },
  {
   "cell_type": "code",
   "execution_count": 47,
   "id": "a63ae322-bae2-4810-b1cf-925de3220306",
   "metadata": {},
   "outputs": [],
   "source": [
    "def list_of_paths(folder_path):\n",
    "    file_paths = [os.path.join(folder_path, f) for f in os.listdir(folder_path) if os.path.isfile(os.path.join(folder_path, f))]\n",
    "    return np.array(file_paths)\n",
    "\n",
    "imgs_0_train = list_of_paths(path)\n",
    "lbls_0_train = list_of_paths(path_lbl)\n",
    "\n",
    "imgs_1_train = list_of_paths(path_1)\n",
    "lbls_1_train = list_of_paths(path_1_lbl)\n",
    "\n",
    "imgs_0_test = list_of_paths(path_test)\n",
    "lbls_0_test = list_of_paths(path_test_lbl)\n",
    "\n",
    "imgs_1_test = list_of_paths(path_1_test)\n",
    "lbls_1_test = list_of_paths(path_1_test_lbl)"
   ]
  },
  {
   "cell_type": "code",
   "execution_count": 48,
   "id": "ce3aa468-d24f-4de0-a19a-5ebb0ff9810c",
   "metadata": {},
   "outputs": [
    {
     "data": {
      "text/plain": [
       "(13340, 13340, 3418, 3418, 1338, 1338, 583, 583)"
      ]
     },
     "execution_count": 48,
     "metadata": {},
     "output_type": "execute_result"
    }
   ],
   "source": [
    "len(imgs_0_train), len(lbls_0_train), len(imgs_1_train), len(lbls_1_train), len(imgs_0_test), len(lbls_0_test),len(imgs_1_test),len(lbls_1_test)"
   ]
  },
  {
   "cell_type": "code",
   "execution_count": 49,
   "id": "2ad4b0be-66a3-4008-9525-1e367939e46b",
   "metadata": {},
   "outputs": [],
   "source": [
    "def createTextFiles(img_files, lbl_files, image_file_name, label_file_name, output='./text files/2020/'):\n",
    "    with open(output+image_file_name, 'w') as f:\n",
    "        f.writelines('\\n'.join(img_files))\n",
    "\n",
    "    with open(output+label_file_name, 'w') as f:\n",
    "        f.writelines('\\n'.join(lbl_files))\n",
    "\n",
    "createTextFiles(imgs_0_train,lbls_0_train, 'image_0_training.txt','label_0_training.txt')\n",
    "createTextFiles(imgs_1_train,lbls_1_train, 'image_1_training.txt','label_1_training.txt')\n",
    "createTextFiles(imgs_0_test,lbls_0_test, 'image_0_testing.txt','label_0_testing.txt')\n",
    "createTextFiles(imgs_1_test,lbls_1_test, 'image_1_testing.txt','label_1_testing.txt')"
   ]
  },
  {
   "cell_type": "code",
   "execution_count": 74,
   "id": "475e39e0-532c-4ac4-b1bc-48f0d055a5d0",
   "metadata": {},
   "outputs": [],
   "source": [
    "def ChooseNumberOfZeros(img_0,lbl_0,number_of_zeros=300):\n",
    "    np.random.seed(10)\n",
    "    idx = np.arange(len(img_0))\n",
    "    sample = np.random.choice(idx,number_of_zeros)\n",
    "    return img_0[sample], lbl_0[sample]"
   ]
  },
  {
   "cell_type": "code",
   "execution_count": 79,
   "id": "62494d99-415e-43e4-b115-22fc67a2b5c2",
   "metadata": {},
   "outputs": [],
   "source": [
    "def readTextFile(file):\n",
    "    with open(file) as f:\n",
    "        return np.array(f.read().splitlines())\n",
    "        \n",
    "def LoadData(image_txt, label_txt,zero=True):\n",
    "    image_paths = readTextFile(image_txt)\n",
    "    label_paths = readTextFile(label_txt)\n",
    "\n",
    "    if zero:\n",
    "        image_paths,label_paths = ChooseNumberOfZeros(image_paths,label_paths,300)\n",
    "\n",
    "    images,labels = read_images(image_paths,label_paths)\n",
    "    sliced_images, sliced_labels = sliceImages(images,labels)\n",
    "    return sliced_images, sliced_labels"
   ]
  },
  {
   "cell_type": "code",
   "execution_count": 80,
   "id": "2f7602cd-487d-4e41-8535-d89a11802675",
   "metadata": {},
   "outputs": [],
   "source": [
    "list_2017 = [('./text files/2017/image_0_training.txt', './text files/2017/label_0_training.txt'),\n",
    "             ('./text files/2017/image_1_training.txt', './text files/2017/label_1_training.txt'),\n",
    "            ('./text files/2017/image_0_testing.txt', './text files/2017/label_0_testing.txt'),\n",
    "            ('./text files/2017/image_1_testing.txt', './text files/2017/label_1_testing.txt')]\n",
    "\n",
    "list_2020 = [('./text files/2020/image_0_training.txt', './text files/2020/label_0_training.txt'),\n",
    "             ('./text files/2020/image_1_training.txt', './text files/2020/label_1_training.txt'),\n",
    "            ('./text files/2020/image_0_testing.txt', './text files/2020/label_0_testing.txt'),\n",
    "            ('./text files/2020/image_1_testing.txt', './text files/2020/label_1_testing.txt')]"
   ]
  }
 ],
 "metadata": {
  "kernelspec": {
   "display_name": "Python 3 (ipykernel)",
   "language": "python",
   "name": "python3"
  },
  "language_info": {
   "codemirror_mode": {
    "name": "ipython",
    "version": 3
   },
   "file_extension": ".py",
   "mimetype": "text/x-python",
   "name": "python",
   "nbconvert_exporter": "python",
   "pygments_lexer": "ipython3",
   "version": "3.12.1"
  }
 },
 "nbformat": 4,
 "nbformat_minor": 5
}
